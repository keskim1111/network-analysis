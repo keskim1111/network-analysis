{
 "cells": [
  {
   "cell_type": "code",
   "execution_count": 1,
   "id": "e07bafe3",
   "metadata": {},
   "outputs": [],
   "source": [
    "import os\n",
    "os.chdir('..\\\\') # in ./tests folder - so changing to parent folder for imports\n",
    "\n",
    "from consts import FOLDER2FLOW_RESULTS\n",
    "import pandas as pd\n",
    "import pprint\n",
    "import numpy as np\n",
    "import matplotlib.pyplot as plt\n",
    "from IPython.display import display\n",
    "\n",
    "class df_extra:    \n",
    "    def __init__(self, df):\n",
    "        self.df = df\n",
    "        self.num_rows = df.shape[0]\n",
    "        self.data_dict = {}\n",
    "\n",
    "    def add_data_to_df(self, col_name, data):\n",
    "        self.data_dict[col_name] = [data]*self.num_rows\n",
    "        self.df[col_name] = data\n",
    "\n",
    "def create_united_df(date_folder, timelimit=600): # This is a df of all networks in folder\n",
    "    res_dp = os.path.join(FOLDER2FLOW_RESULTS, date_folder)\n",
    "    dfs_list = []\n",
    "    for network in sorted(os.listdir(res_dp), reverse=True):\n",
    "        df_fp = os.path.join(res_dp, network, \"results.df\")\n",
    "        if network.endswith(\".log\") or not os.path.exists(df_fp):\n",
    "            continue\n",
    "        df = pd.read_pickle(df_fp)\n",
    "\n",
    "        _df_extra = df_extra(df)\n",
    "        _df_extra.add_data_to_df(\"network\", network)\n",
    "        _df_extra.add_data_to_df(\"mu\", network.split(\"_\")[1])\n",
    "\n",
    "        dfs_list.append(df)\n",
    "    df = pd.concat(dfs_list)\n",
    "    df.reset_index(inplace=True)\n",
    "    del df[\"index\"]\n",
    "    \n",
    "    # replace names to shorter names for readabilty\n",
    "    df[\"algo\"].replace(f\"NLP-100-TL-{timelimit}\", \"NLP100\", inplace=True)\n",
    "    df[\"algo\"].replace(f\"NLP-150-TL-{timelimit}\", \"NLP150\", inplace=True)\n",
    "    df[\"algo\"].replace(f\"NLP-200-TL-{timelimit}\", \"NLP200\", inplace=True)\n",
    "    \n",
    "    df[\"algo\"].replace(f\"LLP-100\", \"LLP100\", inplace=True)\n",
    "    df[\"algo\"].replace(f\"louvain-ILP-num_com_bound 150\", \"LLP150\", inplace=True)\n",
    "    df[\"algo\"].replace(f\"louvain-ILP-num_com_bound 200\", \"LLP200\", inplace=True)\n",
    "    \n",
    "    return df\n",
    "\n",
    "def prepare_data_for_plot_per_mu(df):\n",
    "    evals = [\"avg_modularity\", \"std_modularity\", \"avg_jaccard\", \"std_jaccard\"]\n",
    "    mus = [\"all\", \"0.4\", \"0.5\", \"0.6\"]\n",
    "    evals_dict = {}\n",
    "\n",
    "    for mu in mus:\n",
    "        evals_dict[mu] = {}\n",
    "        for _eval in evals:\n",
    "            evals_dict[mu][_eval] = {}\n",
    "\n",
    "    for algo in df.algo.unique():\n",
    "        for mu, evals in evals_dict.items():\n",
    "    #         print(algo, mu)\n",
    "            if mu == \"all\":\n",
    "                algo_rows = df.loc[df[\"algo\"]==algo]\n",
    "            else:\n",
    "                algo_rows = df.loc[df[\"algo\"]==algo].loc[df[\"mu\"]==mu]\n",
    "\n",
    "            avg_modularity = algo_rows[\"modularity - algo\"].mean()\n",
    "            std_modularity = algo_rows[\"modularity - algo\"].std()\n",
    "            avg_jaccard = algo_rows[\"jaccard\"].mean()\n",
    "            std_jaccard = algo_rows[\"jaccard\"].std()\n",
    "\n",
    "            evals[\"avg_modularity\"][algo] = avg_modularity\n",
    "            evals[\"std_modularity\"][algo] = std_modularity\n",
    "            evals[\"avg_jaccard\"][algo] = avg_jaccard\n",
    "            evals[\"std_jaccard\"][algo] = std_jaccard\n",
    "    return evals_dict\n",
    "\n",
    "def prepare_data_for_plot_per_eval(df):\n",
    "    evals_dict = {}\n",
    "    evals = [\"avg_modularity\", \"std_modularity\", \"avg_jaccard\", \"std_jaccard\"]\n",
    "    mus = [\"0.4\", \"0.5\", \"0.6\"]\n",
    "    for _eval in evals:\n",
    "        evals_dict[_eval] = {}\n",
    "        for mu in mus:\n",
    "            evals_dict[_eval][mu] = df.loc\n",
    "    \n",
    "\n",
    "def create_plots(data_for_plot):\n",
    "    for mu, mu_evals in data_for_plot.items():\n",
    "        for eval_name, eval_data in mu_evals.items():\n",
    "            fig, ax = plt.subplots()\n",
    "            ax.set_title(f'{eval_name}, mu={mu}')\n",
    "            x = eval_data.values()\n",
    "            y = eval_data.keys()\n",
    "            ax.plot(y, x)\n",
    "#             ax.axhline(y=list(x)[0], color='r', linestyle='--')\n",
    "\n",
    "def run_visu(date_folder):\n",
    "    df = create_united_df(date_folder)\n",
    "    display(df)\n",
    "    data_for_plots = prepare_data_for_plot_per_mu(df)\n",
    "    print(data_for_plots)\n",
    "    create_plots(data_for_plots)"
   ]
  },
  {
   "cell_type": "code",
   "execution_count": 53,
   "id": "18ff4702",
   "metadata": {},
   "outputs": [],
   "source": [
    "from collections import defaultdict\n",
    "\n",
    "def create_plot_all_mus(df, ev_col=\"modularity - algo\", plot_name=\"avg modularity per mu\", num=0):\n",
    "    mus = [\"0.4\", \"0.5\", \"0.6\"]\n",
    "    mu_indices = [float(val) for val in mus]\n",
    "    fig = plt.figure()\n",
    "    ax = fig.add_subplot(111)\n",
    "    ax.set_title(f'{plot_name}')\n",
    "    y_dict = defaultdict(list)\n",
    "    y_std_dict = defaultdict(list)\n",
    "    for algo in df.algo.unique():\n",
    "        # avg_modularity\n",
    "        for mu in mus:\n",
    "            #algo_rows = df.loc[df[\"algo\"]==algo].loc[df[\"mu\"]==mu].loc[df[\"num communities - algo\"]!=df[\"number_of_mega_nodes\"]]\n",
    "            algo_rows = df.loc[df[\"mu\"]==mu].loc[df[\"algo\"]==algo]\n",
    "            if algo != \"Louvain\":\n",
    "                algo_rows = algo_rows.loc[df[\"number_of_mega_nodes\"]-df[\"num communities - algo\"]>=num]\n",
    "            algo_eval_rows = algo_rows[ev_col]\n",
    "            if algo ==\"Louvain\" or algo == \"Newman\":\n",
    "                y_dict[algo].append(algo_eval_rows.mean())\n",
    "            else:\n",
    "                y_dict[algo].append(algo_eval_rows.mean())\n",
    "                y_std_dict[algo].append(algo_eval_rows.std())\n",
    "    width  = np.min(np.diff(mu_indices))/3\n",
    "    num_of_algos = len(y_dict.keys())\n",
    "    for i, algo in enumerate(y_dict.keys()):\n",
    "        if algo ==\"Louvain\" or algo == \"Newman\":\n",
    "            ax.bar(mu_indices + (-1)**i * width/num_of_algos, y_dict[algo], width, label=algo)\n",
    "        else:\n",
    "            ax.bar(mu_indices + (-1)**i * width/num_of_algos, y_dict[algo], width, label=algo,yerr=y_std_dict[algo],)\n",
    "    ax.legend()\n",
    "\n",
    "        \n",
    "def create_graph(date_folder, ev_col=\"modularity - algo\", plot_name=\"avg modularity per mu\", num=0):\n",
    "    df = create_united_df(date_folder)\n",
    "    #display(df)\n",
    "    create_plot_all_mus(df, ev_col, plot_name,  num)\n",
    "    return df"
   ]
  },
  {
   "cell_type": "code",
   "execution_count": 54,
   "id": "bcd153bb",
   "metadata": {},
   "outputs": [
    {
     "data": {
      "text/plain": "<Figure size 432x288 with 1 Axes>",
      "image/png": "[encoded data removed]"
     },
     "metadata": {
      "needs_background": "light"
     },
     "output_type": "display_data"
    }
   ],
   "source": [
    "date_1000_nodes_folder = \"29-05-2022--21-34-19 1000 mod\"\n",
    "\n",
    "df = create_graph(date_1000_nodes_folder, ev_col=\"jaccard\", plot_name=\"avg jaccard per mu 1000 mod\", num=2)"
   ]
  },
  {
   "cell_type": "code",
   "execution_count": 55,
   "outputs": [
    {
     "data": {
      "text/plain": "<Figure size 432x288 with 1 Axes>",
      "image/png": "[encoded data removed]"
     },
     "metadata": {
      "needs_background": "light"
     },
     "output_type": "display_data"
    }
   ],
   "source": [
    "df = create_graph(date_1000_nodes_folder, ev_col=\"modularity - algo\", plot_name=\"avg modularity - algo per mu 1000 mod\", num=2)"
   ],
   "metadata": {
    "collapsed": false,
    "pycharm": {
     "name": "#%%\n"
    }
   }
  },
  {
   "cell_type": "code",
   "execution_count": null,
   "outputs": [],
   "source": [],
   "metadata": {
    "collapsed": false,
    "pycharm": {
     "name": "#%%\n"
    }
   }
  }
 ],
 "metadata": {
  "kernelspec": {
   "display_name": "Python 3",
   "language": "python",
   "name": "python3"
  },
  "language_info": {
   "codemirror_mode": {
    "name": "ipython",
    "version": 3
   },
   "file_extension": ".py",
   "mimetype": "text/x-python",
   "name": "python",
   "nbconvert_exporter": "python",
   "pygments_lexer": "ipython3",
   "version": "3.8.5"
  }
 },
 "nbformat": 4,
 "nbformat_minor": 5
}