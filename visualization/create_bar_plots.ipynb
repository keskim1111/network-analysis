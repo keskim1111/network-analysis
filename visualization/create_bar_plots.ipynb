{
 "cells": [
  {
   "cell_type": "code",
   "execution_count": 4,
   "id": "a0ff5853",
   "metadata": {
    "pycharm": {
     "name": "#%%\n"
    }
   },
   "outputs": [],
   "source": [
    "import os\n",
    "os.chdir('..\\\\') # in ./tests folder - so changing to parent folder for imports\n",
    "from consts import FOLDER2FLOW_RESULTS\n",
    "import pandas as pd\n",
    "import matplotlib.pyplot as plt\n",
    "import seaborn as sns\n",
    "import numpy as np\n",
    "\n",
    "class df_extra:    \n",
    "    def __init__(self, df):\n",
    "        self.df = df\n",
    "        self.num_rows = df.shape[0]\n",
    "        self.data_dict = {}\n",
    "\n",
    "    def add_data_to_df(self, col_name, data):\n",
    "        self.data_dict[col_name] = [data]*self.num_rows\n",
    "        self.df[col_name] = data\n",
    "\n",
    "def print_means(df, evals):\n",
    "    mus = [\"0.4\", \"0.5\", \"0.6\"]\n",
    "    for _eval in evals:\n",
    "            for mu in mus:\n",
    "                for algo in df.algo.unique():\n",
    "                    algo_rows = df.loc[df[\"algo\"]==algo].loc[df[\"mu\"]==mu]\n",
    "                    avg = algo_rows[_eval].mean()\n",
    "                    print(f\"avg for: {algo}, {mu}, {_eval}:\\t {avg}\")\n",
    "    return\n",
    "\n",
    "def create_united_df(date_folder, timelimit=600): # This is a df of all networks in folder\n",
    "    res_dp = os.path.join(FOLDER2FLOW_RESULTS, date_folder)\n",
    "    dfs_list = []\n",
    "    for network in sorted(os.listdir(res_dp), reverse=True):\n",
    "        df_fp = os.path.join(res_dp, network, \"results.df\")\n",
    "        if network.endswith(\".log\") or not os.path.exists(df_fp):\n",
    "            continue\n",
    "        df = pd.read_pickle(df_fp)\n",
    "\n",
    "        _df_extra = df_extra(df)\n",
    "        _df_extra.add_data_to_df(\"network\", network)\n",
    "        _df_extra.add_data_to_df(\"mu\", network.split(\"_\")[1])\n",
    "\n",
    "        dfs_list.append(df)\n",
    "    df = pd.concat(dfs_list)\n",
    "    df.reset_index(inplace=True)\n",
    "    del df[\"index\"]\n",
    "    \n",
    "    # replace names to shorter names for readabilty\n",
    "    df[\"algo\"].replace(f\"NLP-100-TL-{timelimit}\", \"NLP100\", inplace=True)\n",
    "    df[\"algo\"].replace(f\"NLP-150-TL-{timelimit}\", \"NLP150\", inplace=True)\n",
    "    df[\"algo\"].replace(f\"NLP-200-TL-{timelimit}\", \"NLP200\", inplace=True)\n",
    "    \n",
    "    df[\"algo\"].replace(f\"LLP-100\", \"LLP100\", inplace=True)\n",
    "    df[\"algo\"].replace(f\"louvain-ILP-num_com_bound 150\", \"LLP150\", inplace=True)\n",
    "    df[\"algo\"].replace(f\"louvain-ILP-num_com_bound 200\", \"LLP200\", inplace=True)\n",
    "    \n",
    "    return df\n",
    "\n",
    "def run_visu(input_folder):\n",
    "    df = create_united_df(input_folder)\n",
    "    return df\n",
    "\n",
    "def run_visu_benchmark(input_folder):\n",
    "    res_dp = os.path.join(FOLDER2FLOW_RESULTS, input_folder)\n",
    "    dfs_list = []\n",
    "    for network in sorted(os.listdir(res_dp), reverse=True):\n",
    "        df_fp = os.path.join(res_dp, network, \"results.df\")\n",
    "        if network.endswith(\".log\") or not os.path.exists(df_fp):\n",
    "            continue\n",
    "        df = pd.read_pickle(df_fp)\n",
    "\n",
    "        _df_extra = df_extra(df)\n",
    "        _df_extra.add_data_to_df(\"network\", network)\n",
    "\n",
    "        dfs_list.append(df)\n",
    "    df = pd.concat(dfs_list)\n",
    "    df.reset_index(inplace=True)\n",
    "    del df[\"index\"]\n",
    "    return df\n",
    "\n",
    "def create_bar_graphs_benchmark(df, evals, title=\"Graph\"):\n",
    "    for eval in evals:\n",
    "        name = f\"{title}-{eval}\"\n",
    "        ax = sns.barplot(x=\"network\", y=eval, hue=\"algo\", data=df).set(title=name)\n",
    "        plt.legend(bbox_to_anchor=(1.05, 1), loc=2, borderaxespad=0.)\n",
    "        plt.show()\n",
    "\n",
    "def create_bar_graphs(df, evals, title=\"Graph\"):\n",
    "    for eval in evals:\n",
    "        name = f\"{title}-{eval}\"\n",
    "        sns_plot = sns.barplot(x=\"mu\", y=eval, hue=\"algo\", data=df).set(title=name)\n",
    "        plt.legend(bbox_to_anchor=(1.05, 1), loc=2, borderaxespad=0.)\n",
    "        plt.show()\n",
    "\n",
    "\n",
    "def print_times(df):\n",
    "    # mus = [\"0.4\", \"0.5\", \"0.6\"]\n",
    "    # for mu in mus:\n",
    "        for algo in df.algo.unique():\n",
    "            algo_rows = df.loc[df[\"algo\"]==algo]\n",
    "            avg = algo_rows[\"time-sec\"].mean()\n",
    "            print(f\"avg time for: {algo} :\\t {avg}\")\n",
    "        return\n",
    "\n",
    "evals=[\"modularity - algo\", \"jaccard\",\"graph_accuracy\",\"graph_conductance\",\n",
    "       ]\n",
    "evals2 =[\"modularity - algo\", \"jaccard\",\"graph_accuracy\",\"graph_conductance\",\n",
    "       \"number_of_mega_nodes_before_split\",\"number_of_mega_nodes\"\n",
    "       ]\n",
    "\n"
   ]
  },
  {
   "cell_type": "code",
   "execution_count": 6,
   "id": "52208b99",
   "metadata": {
    "pycharm": {
     "name": "#%%\n"
    }
   },
   "outputs": [
    {
     "data": {
      "text/plain": "<Figure size 432x288 with 1 Axes>",
      "image/png": "[encoded data removed]"
     },
     "metadata": {
      "needs_background": "light"
     },
     "output_type": "display_data"
    },
    {
     "data": {
      "text/plain": "<Figure size 432x288 with 1 Axes>",
      "image/png": "[encoded data removed]"
     },
     "metadata": {
      "needs_background": "light"
     },
     "output_type": "display_data"
    },
    {
     "data": {
      "text/plain": "<Figure size 432x288 with 1 Axes>",
      "image/png": "[encoded data removed]"
     },
     "metadata": {
      "needs_background": "light"
     },
     "output_type": "display_data"
    },
    {
     "data": {
      "text/plain": "<Figure size 432x288 with 1 Axes>",
      "image/png": "[encoded data removed]"
     },
     "metadata": {
      "needs_background": "light"
     },
     "output_type": "display_data"
    },
    {
     "name": "stdout",
     "output_type": "stream",
     "text": [
      "avg for: Louvain, 0.4, modularity - algo:\t 0.5659169231899644\n",
      "avg for: LLP100, 0.4, modularity - algo:\t 0.5664167596047097\n",
      "avg for: Louvain, 0.5, modularity - algo:\t nan\n",
      "avg for: LLP100, 0.5, modularity - algo:\t nan\n",
      "avg for: Louvain, 0.6, modularity - algo:\t nan\n",
      "avg for: LLP100, 0.6, modularity - algo:\t nan\n",
      "avg for: Louvain, 0.4, jaccard:\t 0.9003895709442117\n",
      "avg for: LLP100, 0.4, jaccard:\t 0.9226499576021054\n",
      "avg for: Louvain, 0.5, jaccard:\t nan\n",
      "avg for: LLP100, 0.5, jaccard:\t nan\n",
      "avg for: Louvain, 0.6, jaccard:\t nan\n",
      "avg for: LLP100, 0.6, jaccard:\t nan\n",
      "avg for: Louvain, 0.4, graph_accuracy:\t 0.9684774022169803\n",
      "avg for: LLP100, 0.4, graph_accuracy:\t 0.9739785147738443\n",
      "avg for: Louvain, 0.5, graph_accuracy:\t nan\n",
      "avg for: LLP100, 0.5, graph_accuracy:\t nan\n",
      "avg for: Louvain, 0.6, graph_accuracy:\t nan\n",
      "avg for: LLP100, 0.6, graph_accuracy:\t nan\n",
      "avg for: Louvain, 0.4, graph_conductance:\t 0.6030401463213071\n",
      "avg for: LLP100, 0.4, graph_conductance:\t 0.6027422980155605\n",
      "avg for: Louvain, 0.5, graph_conductance:\t nan\n",
      "avg for: LLP100, 0.5, graph_conductance:\t nan\n",
      "avg for: Louvain, 0.6, graph_conductance:\t nan\n",
      "avg for: LLP100, 0.6, graph_conductance:\t nan\n",
      "avg for: Louvain, 0.4, number_of_mega_nodes_before_split:\t nan\n",
      "avg for: LLP100, 0.4, number_of_mega_nodes_before_split:\t 32.666666666666664\n",
      "avg for: Louvain, 0.5, number_of_mega_nodes_before_split:\t nan\n",
      "avg for: LLP100, 0.5, number_of_mega_nodes_before_split:\t nan\n",
      "avg for: Louvain, 0.6, number_of_mega_nodes_before_split:\t nan\n",
      "avg for: LLP100, 0.6, number_of_mega_nodes_before_split:\t nan\n",
      "avg for: Louvain, 0.4, number_of_mega_nodes:\t nan\n",
      "avg for: LLP100, 0.4, number_of_mega_nodes:\t 32.666666666666664\n",
      "avg for: Louvain, 0.5, number_of_mega_nodes:\t nan\n",
      "avg for: LLP100, 0.5, number_of_mega_nodes:\t nan\n",
      "avg for: Louvain, 0.6, number_of_mega_nodes:\t nan\n",
      "avg for: LLP100, 0.6, number_of_mega_nodes:\t nan\n",
      "avg time for: Louvain :\t 0.14923003333333332\n",
      "avg time for: LLP100 :\t 0.7318194666666665\n"
     ]
    }
   ],
   "source": [
    "input_folder = \"28-06-2022--12-00-14-del\"\n",
    "df = run_visu(input_folder)\n",
    "create_bar_graphs(df,evals)\n",
    "print_means(df, evals2)\n",
    "print_times(df)\n",
    "# display(df)"
   ]
  },
  {
   "cell_type": "code",
   "execution_count": null,
   "id": "ada985d6",
   "metadata": {
    "pycharm": {
     "name": "#%%\n"
    }
   },
   "outputs": [],
   "source": []
  }
 ],
 "metadata": {
  "kernelspec": {
   "display_name": "Python 3 (ipykernel)",
   "language": "python",
   "name": "python3"
  },
  "language_info": {
   "codemirror_mode": {
    "name": "ipython",
    "version": 3
   },
   "file_extension": ".py",
   "mimetype": "text/x-python",
   "name": "python",
   "nbconvert_exporter": "python",
   "pygments_lexer": "ipython3",
   "version": "3.9.7"
  }
 },
 "nbformat": 4,
 "nbformat_minor": 5
}